{
 "cells": [
  {
   "cell_type": "code",
   "execution_count": 3,
   "metadata": {},
   "outputs": [],
   "source": [
    "import math\n",
    "import numpy as np\n",
    "import pandas as pd\n",
    "\n",
    "def factorial(n):\n",
    "    sum_factorial = 1\n",
    "    for i in range(1, n + 1):\n",
    "        sum_factorial *= i\n",
    "    return sum_factorial\n",
    "\n",
    "\n",
    "def bernouli(n):\n",
    "    if n <= 0:\n",
    "        return 1\n",
    "    else:\n",
    "        s = 0\n",
    "        for k in range(1, n + 1):\n",
    "            s += bink(n + 1, k + 1) * bernouli(n - k)\n",
    "        return -1 / (n + 1) * s\n",
    "\n",
    "\n",
    "# Биномиальный коэффициент Ньютона\n",
    "def bink(n, k):\n",
    "    return factorial(n) / (factorial(k) * factorial(n - k))\n"
   ]
  },
  {
   "cell_type": "code",
   "execution_count": 14,
   "metadata": {
    "scrolled": true
   },
   "outputs": [
    {
     "name": "stdout",
     "output_type": "stream",
     "text": [
      "-26.434754877865295\n"
     ]
    },
    {
     "data": {
      "text/html": [
       "<div>\n",
       "<style scoped>\n",
       "    .dataframe tbody tr th:only-of-type {\n",
       "        vertical-align: middle;\n",
       "    }\n",
       "\n",
       "    .dataframe tbody tr th {\n",
       "        vertical-align: top;\n",
       "    }\n",
       "\n",
       "    .dataframe thead th {\n",
       "        text-align: right;\n",
       "    }\n",
       "</style>\n",
       "<table border=\"1\" class=\"dataframe\">\n",
       "  <thead>\n",
       "    <tr style=\"text-align: right;\">\n",
       "      <th></th>\n",
       "      <th>0</th>\n",
       "    </tr>\n",
       "  </thead>\n",
       "  <tbody>\n",
       "    <tr>\n",
       "      <th>-9.118454</th>\n",
       "      <td>2.0</td>\n",
       "    </tr>\n",
       "    <tr>\n",
       "      <th>-8.612132</th>\n",
       "      <td>4.0</td>\n",
       "    </tr>\n",
       "    <tr>\n",
       "      <th>-8.090146</th>\n",
       "      <td>8.0</td>\n",
       "    </tr>\n",
       "    <tr>\n",
       "      <th>-7.585359</th>\n",
       "      <td>16.0</td>\n",
       "    </tr>\n",
       "    <tr>\n",
       "      <th>-7.124677</th>\n",
       "      <td>32.0</td>\n",
       "    </tr>\n",
       "    <tr>\n",
       "      <th>-6.759797</th>\n",
       "      <td>64.0</td>\n",
       "    </tr>\n",
       "    <tr>\n",
       "      <th>-6.664877</th>\n",
       "      <td>128.0</td>\n",
       "    </tr>\n",
       "    <tr>\n",
       "      <th>-7.544185</th>\n",
       "      <td>256.0</td>\n",
       "    </tr>\n",
       "    <tr>\n",
       "      <th>-12.545274</th>\n",
       "      <td>512.0</td>\n",
       "    </tr>\n",
       "    <tr>\n",
       "      <th>-37.019203</th>\n",
       "      <td>1024.0</td>\n",
       "    </tr>\n",
       "  </tbody>\n",
       "</table>\n",
       "</div>"
      ],
      "text/plain": [
       "                 0\n",
       "-9.118454      2.0\n",
       "-8.612132      4.0\n",
       "-8.090146      8.0\n",
       "-7.585359     16.0\n",
       "-7.124677     32.0\n",
       "-6.759797     64.0\n",
       "-6.664877    128.0\n",
       "-7.544185    256.0\n",
       "-12.545274   512.0\n",
       "-37.019203  1024.0"
      ]
     },
     "execution_count": 14,
     "metadata": {},
     "output_type": "execute_result"
    }
   ],
   "source": [
    "\n",
    "alpha = 1.1\n",
    "n = []\n",
    "z_exact = 10.5844484649508098\n",
    "zn_zexact = []\n",
    "for degree in range(1,11):\n",
    "    n.append(math.pow(2,degree))\n",
    "    z_n = -1 / (alpha - 1) * math.pow(n[-1], -(alpha - 1)) + 0.5 * math.pow(n[-1], -alpha)\n",
    "    for i in range(1, degree + 1):\n",
    "        divisior = 1\n",
    "        for k in range(1, degree + 1):\n",
    "            divisior *= (alpha + 2 * k - 2)\n",
    "        divisior = - divisior * bernouli(2 * i) * math.pow(n[-1], -(alpha + 2 * i - 1)) / factorial(2 * i)\n",
    "        z_n += divisior\n",
    "\n",
    "    z_n = z_exact + z_n\n",
    "    zn_zexact.append(z_n - z_exact)\n",
    "print(z_n)\n",
    "df = pd.DataFrame(n,zn_zexact)\n",
    "df\n"
   ]
  },
  {
   "cell_type": "code",
   "execution_count": null,
   "metadata": {},
   "outputs": [],
   "source": []
  }
 ],
 "metadata": {
  "kernelspec": {
   "display_name": "Python 3",
   "language": "python",
   "name": "python3"
  },
  "language_info": {
   "codemirror_mode": {
    "name": "ipython",
    "version": 3
   },
   "file_extension": ".py",
   "mimetype": "text/x-python",
   "name": "python",
   "nbconvert_exporter": "python",
   "pygments_lexer": "ipython3",
   "version": "3.6.5"
  }
 },
 "nbformat": 4,
 "nbformat_minor": 2
}
