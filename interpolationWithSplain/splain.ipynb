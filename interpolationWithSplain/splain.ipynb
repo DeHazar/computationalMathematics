{
 "cells": [
  {
   "cell_type": "code",
   "execution_count": 1,
   "metadata": {},
   "outputs": [],
   "source": [
    "import numpy as np\n",
    "import math\n"
   ]
  },
  {
   "cell_type": "code",
   "execution_count": 2,
   "metadata": {},
   "outputs": [],
   "source": [
    "def initParams(a: float, b: float, n: int, diferSecond):\n",
    "    \"\"\"\n",
    "    Иницилизирует начальные данные\n",
    "    :param a: левая граница\n",
    "    :param b: правая граница\n",
    "    :param n: количество разбиений\n",
    "    :param diferSecond: лямбда второй производной\n",
    "    :return: Возврашает проинецилизорованые данные\n",
    "    \"\"\"\n",
    "    left_matrix = np.zeros((n, n))\n",
    "    center_matrix = np.zeros(n)\n",
    "    right_matrix = np.zeros(n)\n",
    "    lambda_array = np.zeros(n)\n",
    "    u_array = np.zeros(n)\n",
    "    h = (b - a) / n\n",
    "\n",
    "    x_matrix = np.zeros(n)\n",
    "    for i in range(n):\n",
    "        x_matrix[i] = (a + i * h)\n",
    "    left_matrix[0, 0] = 1\n",
    "    left_matrix[0, 1] = 0\n",
    "    left_matrix[- 1, -2] = 0\n",
    "    left_matrix[- 1, -2] = 1\n",
    "    right_matrix[0] = diferSecond(a)\n",
    "    right_matrix[-1] = diferSecond(b)\n",
    "\n",
    "    return left_matrix, center_matrix, right_matrix, u_array, h, x_matrix, lambda_array\n"
   ]
  },
  {
   "cell_type": "code",
   "execution_count": 3,
   "metadata": {},
   "outputs": [],
   "source": [
    "def splainThird(x, m, h, n, value, fun):\n",
    "    \"\"\"\n",
    "\n",
    "    :param x: матрица левая\n",
    "    :param m: матрица решений\n",
    "    :param h: шаг\n",
    "    :param n: количество разбиений\n",
    "    :param value: искомое значение\n",
    "    :param fun: исходная функция\n",
    "    :return: значение сплайна в точке\n",
    "    \"\"\"\n",
    "    index = -1\n",
    "    for i in range(n - 1):\n",
    "        if x[i] <= value <= x[i + 1]:\n",
    "            index = i + 1\n",
    "            break\n",
    "\n",
    "    splain_value = (((x[index] - value) ** 3 - (h ** 2) * (x[index] - value)) * m[index - 1]) / (6 * h) + (\n",
    "            ((value - x[index - 1]) ** 3 - (h ** 2) * (value - x[index - 1])) * m[index]) / (6 * h) + (\n",
    "                           (x[index] - value) * fun(x[index - 1])) / h + ((value - x[index - 1]) * fun(x[index])) / h\n",
    "    return splain_value\n"
   ]
  },
  {
   "cell_type": "code",
   "execution_count": 4,
   "metadata": {},
   "outputs": [],
   "source": [
    "def calculateSplain(a: float, b: float, n: int,\n",
    "                    fun, diferSecond):\n",
    "    \"\"\"\n",
    "    Расчет массивов методом прогонки\n",
    "    :param a: левая граница\n",
    "    :param b: правая граница\n",
    "    :param n: количество разбиений\n",
    "    :param fun: лямбда функция искомой функции\n",
    "    :param diferSecond: лямбда второй производной\n",
    "    :return: Матрицу коэффициентов, матрицу решений, количество разбиений, шаг\n",
    "    \"\"\"\n",
    "    left_matrix, center_matrix, right_matrix, u_array, h, x_matrix, lambda_array = initParams(a, b, n,\n",
    "                                                                                              diferSecond)\n",
    "    for i in range(1, n - 1):\n",
    "        left_matrix[i, i - 1] = h / 6  # Присваеваем коэф с\n",
    "        left_matrix[i, i] = 2 * h / 3  # коэф а\n",
    "        if i != n - 1:\n",
    "            left_matrix[i, i + 1] = h / 6  # коэф b\n",
    "\n",
    "        right_matrix[i] = (fun(x_matrix[i + 1]) - fun(x_matrix[i])) / h - (fun(x_matrix[i]) - fun(x_matrix[i - 1])) / h\n",
    "\n",
    "    answer = np.linalg.solve(left_matrix, right_matrix)\n",
    "\n",
    "    return x_matrix, answer, n, h\n"
   ]
  },
  {
   "cell_type": "code",
   "execution_count": 17,
   "metadata": {},
   "outputs": [
    {
     "data": {
      "text/plain": [
       "1.0000000000000013"
      ]
     },
     "execution_count": 17,
     "metadata": {},
     "output_type": "execute_result"
    }
   ],
   "source": [
    "x_matrix, center_mas, n, h = calculateSplain(a=0.0, b=math.pi*2, n=100, fun=lambda x: math.sin(x), diferSecond=lambda x: -math.sin(x))\n",
    "spine = splainThird(x_matrix, center_mas, h, n, math.pi/2, fun=lambda x: math.sin(x))\n",
    "spine"
   ]
  },
  {
   "cell_type": "code",
   "execution_count": 15,
   "metadata": {},
   "outputs": [],
   "source": [
    "import matplotlib.pyplot as plt"
   ]
  },
  {
   "cell_type": "code",
   "execution_count": 36,
   "metadata": {
    "collapsed": false
   },
   "outputs": [
    {
     "name": "stdout",
     "output_type": "stream",
     "text": [
      "Populating the interactive namespace from numpy and matplotlib\n"
     ]
    },
    {
     "data": {
      "image/png": "[encoded data removed]",
      "text/plain": [
       "<Figure size 432x288 with 1 Axes>"
      ]
     },
     "metadata": {},
     "output_type": "display_data"
    }
   ],
   "source": [
    "%pylab inline\n",
    "x = linspace(0, math.pi*2, n)\n",
    "y = np.zeros(n)\n",
    "for i in range(n):\n",
    "    y[i] = splainThird(x_matrix, center_mas, h, n, x[i], fun=lambda x: math.sin(x))\n",
    "plt.plot(x,y, label='line 1')\n",
    "plt.show()"
   ]
  },
  {
   "cell_type": "code",
   "execution_count": null,
   "metadata": {},
   "outputs": [],
   "source": []
  }
 ],
 "metadata": {
  "kernelspec": {
   "display_name": "Python 3",
   "language": "python",
   "name": "python3"
  },
  "language_info": {
   "codemirror_mode": {
    "name": "ipython",
    "version": 3
   },
   "file_extension": ".py",
   "mimetype": "text/x-python",
   "name": "python",
   "nbconvert_exporter": "python",
   "pygments_lexer": "ipython3",
   "version": "3.6.5"
  }
 },
 "nbformat": 4,
 "nbformat_minor": 1
}
